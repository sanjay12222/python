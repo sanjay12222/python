{
 "cells": [
  {
   "cell_type": "code",
   "execution_count": 1,
   "metadata": {},
   "outputs": [
    {
     "name": "stdout",
     "output_type": "stream",
     "text": [
      "sanjay\n"
     ]
    }
   ],
   "source": [
    "print('sanjay') "
   ]
  },
  {
   "cell_type": "code",
   "execution_count": 2,
   "metadata": {},
   "outputs": [
    {
     "name": "stdout",
     "output_type": "stream",
     "text": [
      "Requirement already satisfied: conda in c:\\users\\hiram\\anaconda3\\lib\\site-packages (23.7.4)\n",
      "Requirement already satisfied: boltons>=23.0.0 in c:\\users\\hiram\\anaconda3\\lib\\site-packages (from conda) (23.0.0)\n",
      "Requirement already satisfied: conda-package-handling>=1.3.0 in c:\\users\\hiram\\anaconda3\\lib\\site-packages (from conda) (2.2.0)\n",
      "Requirement already satisfied: jsonpatch>=1.32 in c:\\users\\hiram\\anaconda3\\lib\\site-packages (from conda) (1.32)\n",
      "Requirement already satisfied: menuinst<2,>=1.4.11 in c:\\users\\hiram\\anaconda3\\lib\\site-packages (from conda) (1.4.19)\n",
      "Requirement already satisfied: packaging in c:\\users\\hiram\\anaconda3\\lib\\site-packages (from conda) (23.1)\n",
      "Requirement already satisfied: pluggy>=1.0.0 in c:\\users\\hiram\\anaconda3\\lib\\site-packages (from conda) (1.0.0)\n",
      "Requirement already satisfied: pycosat>=0.6.3 in c:\\users\\hiram\\anaconda3\\lib\\site-packages (from conda) (0.6.4)\n",
      "Requirement already satisfied: pyopenssl>=16.2.0 in c:\\users\\hiram\\anaconda3\\lib\\site-packages (from conda) (23.2.0)\n",
      "Requirement already satisfied: requests<3,>=2.27.0 in c:\\users\\hiram\\anaconda3\\lib\\site-packages (from conda) (2.31.0)\n",
      "Requirement already satisfied: ruamel-yaml<0.18,>=0.11.14 in c:\\users\\hiram\\anaconda3\\lib\\site-packages (from conda) (0.17.21)\n",
      "Requirement already satisfied: setuptools>=60.0.0 in c:\\users\\hiram\\anaconda3\\lib\\site-packages (from conda) (68.0.0)\n",
      "Requirement already satisfied: toolz>=0.8.1 in c:\\users\\hiram\\anaconda3\\lib\\site-packages (from conda) (0.12.0)\n",
      "Requirement already satisfied: tqdm>=4 in c:\\users\\hiram\\anaconda3\\lib\\site-packages (from conda) (4.65.0)\n",
      "Requirement already satisfied: conda-package-streaming>=0.9.0 in c:\\users\\hiram\\anaconda3\\lib\\site-packages (from conda-package-handling>=1.3.0->conda) (0.9.0)\n",
      "Requirement already satisfied: jsonpointer>=1.9 in c:\\users\\hiram\\anaconda3\\lib\\site-packages (from jsonpatch>=1.32->conda) (2.1)\n",
      "Requirement already satisfied: cryptography!=40.0.0,!=40.0.1,<42,>=38.0.0 in c:\\users\\hiram\\anaconda3\\lib\\site-packages (from pyopenssl>=16.2.0->conda) (41.0.3)\n",
      "Requirement already satisfied: charset-normalizer<4,>=2 in c:\\users\\hiram\\anaconda3\\lib\\site-packages (from requests<3,>=2.27.0->conda) (2.0.4)\n",
      "Requirement already satisfied: idna<4,>=2.5 in c:\\users\\hiram\\anaconda3\\lib\\site-packages (from requests<3,>=2.27.0->conda) (3.4)\n",
      "Requirement already satisfied: urllib3<3,>=1.21.1 in c:\\users\\hiram\\anaconda3\\lib\\site-packages (from requests<3,>=2.27.0->conda) (1.26.16)\n",
      "Requirement already satisfied: certifi>=2017.4.17 in c:\\users\\hiram\\anaconda3\\lib\\site-packages (from requests<3,>=2.27.0->conda) (2023.7.22)\n",
      "Requirement already satisfied: colorama in c:\\users\\hiram\\anaconda3\\lib\\site-packages (from tqdm>=4->conda) (0.4.6)\n",
      "Requirement already satisfied: zstandard>=0.15 in c:\\users\\hiram\\anaconda3\\lib\\site-packages (from conda-package-streaming>=0.9.0->conda-package-handling>=1.3.0->conda) (0.19.0)\n",
      "Requirement already satisfied: cffi>=1.12 in c:\\users\\hiram\\anaconda3\\lib\\site-packages (from cryptography!=40.0.0,!=40.0.1,<42,>=38.0.0->pyopenssl>=16.2.0->conda) (1.15.1)\n",
      "Requirement already satisfied: pycparser in c:\\users\\hiram\\anaconda3\\lib\\site-packages (from cffi>=1.12->cryptography!=40.0.0,!=40.0.1,<42,>=38.0.0->pyopenssl>=16.2.0->conda) (2.21)\n",
      "Requirement already satisfied: numpy in c:\\users\\hiram\\anaconda3\\lib\\site-packages (1.24.3)\n",
      "^C\n"
     ]
    }
   ],
   "source": [
    "! pip install conda\n",
    "! pip install numpy\n",
    "! pip install pandas\n",
    "import numpy as np\n",
    "import pandas as pd\n",
    "\n"
   ]
  },
  {
   "cell_type": "code",
   "execution_count": 3,
   "metadata": {},
   "outputs": [
    {
     "name": "stdout",
     "output_type": "stream",
     "text": [
      "Requirement already satisfied: pandas in c:\\users\\hiram\\anaconda3\\lib\\site-packages (2.0.3)\n",
      "Requirement already satisfied: python-dateutil>=2.8.2 in c:\\users\\hiram\\anaconda3\\lib\\site-packages (from pandas) (2.8.2)\n",
      "Requirement already satisfied: pytz>=2020.1 in c:\\users\\hiram\\anaconda3\\lib\\site-packages (from pandas) (2023.3.post1)\n",
      "Requirement already satisfied: tzdata>=2022.1 in c:\\users\\hiram\\anaconda3\\lib\\site-packages (from pandas) (2023.3)\n",
      "Requirement already satisfied: numpy>=1.21.0 in c:\\users\\hiram\\anaconda3\\lib\\site-packages (from pandas) (1.24.3)\n",
      "Requirement already satisfied: six>=1.5 in c:\\users\\hiram\\anaconda3\\lib\\site-packages (from python-dateutil>=2.8.2->pandas) (1.16.0)\n"
     ]
    }
   ],
   "source": [
    "rand=np.random.randn\n",
    "df=pd.DataFrame(rand(3,4),columns=['a','b','c','d'])"
   ]
  },
  {
   "cell_type": "code",
   "execution_count": 4,
   "metadata": {},
   "outputs": [
    {
     "data": {
      "text/html": [
       "<div>\n",
       "<style scoped>\n",
       "    .dataframe tbody tr th:only-of-type {\n",
       "        vertical-align: middle;\n",
       "    }\n",
       "\n",
       "    .dataframe tbody tr th {\n",
       "        vertical-align: top;\n",
       "    }\n",
       "\n",
       "    .dataframe thead th {\n",
       "        text-align: right;\n",
       "    }\n",
       "</style>\n",
       "<table border=\"1\" class=\"dataframe\">\n",
       "  <thead>\n",
       "    <tr style=\"text-align: right;\">\n",
       "      <th></th>\n",
       "      <th>a</th>\n",
       "      <th>b</th>\n",
       "      <th>c</th>\n",
       "      <th>d</th>\n",
       "    </tr>\n",
       "  </thead>\n",
       "  <tbody>\n",
       "    <tr>\n",
       "      <th>0</th>\n",
       "      <td>0.719018</td>\n",
       "      <td>3.180252</td>\n",
       "      <td>0.305093</td>\n",
       "      <td>0.144439</td>\n",
       "    </tr>\n",
       "    <tr>\n",
       "      <th>1</th>\n",
       "      <td>-2.286582</td>\n",
       "      <td>-1.414170</td>\n",
       "      <td>-0.327136</td>\n",
       "      <td>0.502386</td>\n",
       "    </tr>\n",
       "    <tr>\n",
       "      <th>2</th>\n",
       "      <td>0.230707</td>\n",
       "      <td>0.775475</td>\n",
       "      <td>0.827230</td>\n",
       "      <td>0.098846</td>\n",
       "    </tr>\n",
       "  </tbody>\n",
       "</table>\n",
       "</div>"
      ],
      "text/plain": [
       "          a         b         c         d\n",
       "0  0.719018  3.180252  0.305093  0.144439\n",
       "1 -2.286582 -1.414170 -0.327136  0.502386\n",
       "2  0.230707  0.775475  0.827230  0.098846"
      ]
     },
     "execution_count": 4,
     "metadata": {},
     "output_type": "execute_result"
    }
   ],
   "source": [
    "df"
   ]
  },
  {
   "cell_type": "code",
   "execution_count": null,
   "metadata": {},
   "outputs": [],
   "source": []
  },
  {
   "cell_type": "code",
   "execution_count": null,
   "metadata": {},
   "outputs": [],
   "source": []
  },
  {
   "cell_type": "markdown",
   "metadata": {},
   "source": []
  },
  {
   "cell_type": "markdown",
   "metadata": {},
   "source": []
  },
  {
   "cell_type": "markdown",
   "metadata": {},
   "source": []
  },
  {
   "cell_type": "markdown",
   "metadata": {},
   "source": []
  }
 ],
 "metadata": {
  "kernelspec": {
   "display_name": "base",
   "language": "python",
   "name": "python3"
  },
  "language_info": {
   "codemirror_mode": {
    "name": "ipython",
    "version": 3
   },
   "file_extension": ".py",
   "mimetype": "text/x-python",
   "name": "python",
   "nbconvert_exporter": "python",
   "pygments_lexer": "ipython3",
   "version": "3.11.5"
  }
 },
 "nbformat": 4,
 "nbformat_minor": 2
}
